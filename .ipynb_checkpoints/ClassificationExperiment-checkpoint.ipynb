{
 "cells": [
  {
   "cell_type": "code",
   "execution_count": 235,
   "metadata": {},
   "outputs": [],
   "source": [
    "%matplotlib inline"
   ]
  },
  {
   "cell_type": "code",
   "execution_count": 236,
   "metadata": {},
   "outputs": [],
   "source": [
    "#导入包\n",
    "import numpy as np\n",
    "from sklearn.datasets import load_svmlight_file\n",
    "from sklearn.model_selection import train_test_split\n",
    "import matplotlib.pyplot as plt"
   ]
  },
  {
   "cell_type": "code",
   "execution_count": 237,
   "metadata": {},
   "outputs": [],
   "source": [
    "#求梯度\n",
    "def gradient(X,w,y,C):\n",
    "    if(len(y)!=len(X)):\n",
    "        raise \"y和X长度不同\"\n",
    "    if(len(X[0])!=len(w)):\n",
    "        raise \"X的列数与w的长度不同\"\n",
    "    g = w.copy()\n",
    "    for l in range(len(X)):\n",
    "        if(1-y[l]*w.dot(X[l])<=0):\n",
    "            continue\n",
    "        g -= C*y[l]*X[l]\n",
    "    return g/len(X)\n",
    "#求损失函数\n",
    "def Hinge_loss(X,w,y,C):\n",
    "    if(len(y)!=len(X)):\n",
    "        raise \"y和X长度不同\"\n",
    "    if(len(X[0])!=len(w)):\n",
    "        raise \"X的列数与w的长度不同\"\n",
    "    loss = 0\n",
    "    for l in range(len(X)):\n",
    "        if(1-y[l]*w.dot(X[l])<=0):\n",
    "            continue\n",
    "        loss= loss+1-y[l]*w.dot(X[l])\n",
    "    return (C*loss+0.5*w.dot(w))/len(y)\n",
    "#计算准确率\n",
    "def correct_rate(X,w,y):\n",
    "    if(len(y)!=len(X)):\n",
    "        raise \"y和X长度不同\"\n",
    "    if(len(X[0])!=len(w)):\n",
    "        raise \"X的列数与w的长度不同\"\n",
    "    correct_count = 0\n",
    "    for i in range(len(y)):\n",
    "        if(w.dot(X[i])*y[i]> 0):\n",
    "            correct_count +=1\n",
    "    return correct_count/len(y)"
   ]
  },
  {
   "cell_type": "code",
   "execution_count": 238,
   "metadata": {},
   "outputs": [
    {
     "name": "stdout",
     "output_type": "stream",
     "text": [
      "准确率为： 0.8508771929824561\n"
     ]
    },
    {
     "data": {
      "image/png": "[encoded data removed]",
      "text/plain": [
       "<matplotlib.figure.Figure at 0x11d950f0>"
      ]
     },
     "metadata": {},
     "output_type": "display_data"
    }
   ],
   "source": [
    "#读取数据\n",
    "X,y = load_svmlight_file(\"australian_scale.txt\")\n",
    "X = X.toarray()\n",
    "#为X添加一维值为 1 的特征\n",
    "ones = [[1]]*len(X)\n",
    "X = np.concatenate((X,ones),axis = 1)\n",
    "#划分训练集合测试集\n",
    "X_train,X_validation,y_train,y_validation = train_test_split(X,y,test_size = 0.33,random_state = 33)\n",
    "#参数初始化\n",
    "w = np.ones(len(X[0]))\n",
    "#给定学习率和损失函数的权重\n",
    "learning_rate = 0.01\n",
    "C = 0.9\n",
    "#保存每次迭代的损失函数的值\n",
    "loss_train = [Hinge_loss(X_train,w,y_train,C)]\n",
    "loss_validation = [Hinge_loss(X_validation,w,y_validation,C)]\n",
    "#迭代更新参数\n",
    "for i in range(1000):\n",
    "    w -= learning_rate * gradient(X_train,w,y_train,C)\n",
    "    loss_train.append(Hinge_loss(X_train,w,y_train,C))\n",
    "    loss_validation.append(Hinge_loss(X_validation,w,y_validation,C))\n",
    "\n",
    "#绘制损失函数变化图\n",
    "plt.plot(range(1001),loss_train ,label=\"loss_train\",)\n",
    "plt.plot(range(1001),loss_validation ,label=\"loss_validation\")\n",
    "plt.legend(loc = \"best\")\n",
    "ax = plt.gca()\n",
    "ax.set_xlabel(\"number of iterations\")\n",
    "ax.set_ylabel(\"loss function\")\n",
    "print(\"准确率为：\",correct_rate(X_validation,w,y_validation))"
   ]
  }
 ],
 "metadata": {
  "kernelspec": {
   "display_name": "Python 3",
   "language": "python",
   "name": "python3"
  },
  "language_info": {
   "codemirror_mode": {
    "name": "ipython",
    "version": 3
   },
   "file_extension": ".py",
   "mimetype": "text/x-python",
   "name": "python",
   "nbconvert_exporter": "python",
   "pygments_lexer": "ipython3",
   "version": "3.5.2"
  }
 },
 "nbformat": 4,
 "nbformat_minor": 2
}
