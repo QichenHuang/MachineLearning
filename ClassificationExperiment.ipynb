{
 "cells": [
  {
   "cell_type": "code",
   "execution_count": 75,
   "metadata": {},
   "outputs": [],
   "source": [
    "%matplotlib inline"
   ]
  },
  {
   "cell_type": "code",
   "execution_count": 76,
   "metadata": {},
   "outputs": [],
   "source": [
    "#导入包\n",
    "import numpy as np\n",
    "from sklearn.datasets import load_svmlight_file\n",
    "from sklearn.model_selection import train_test_split\n",
    "import matplotlib.pyplot as plt"
   ]
  },
  {
   "cell_type": "code",
   "execution_count": 77,
   "metadata": {},
   "outputs": [],
   "source": [
    "#求梯度\n",
    "def gradient(X,w,y,C):\n",
    "    g = w.copy()\n",
    "    for l in range(len(X)):\n",
    "        if(1-y[l]*w.dot(X[l])<=0):\n",
    "            continue\n",
    "        g -= C*y[l]*X[l]\n",
    "    return g/len(X)\n",
    "#求损失函数\n",
    "def Hinge_loss(X,w,y):\n",
    "    loss = 0\n",
    "    for l in range(len(X)):\n",
    "        if(1-y[l]*w.dot(X[l])<=0):\n",
    "            continue\n",
    "        loss= loss+1-y[l]*w.dot(X[l])\n",
    "    return loss/len(X)"
   ]
  },
  {
   "cell_type": "code",
   "execution_count": 78,
   "metadata": {},
   "outputs": [
    {
     "data": {
      "text/plain": [
       "Text(0,0.5,'loss function')"
      ]
     },
     "execution_count": 78,
     "metadata": {},
     "output_type": "execute_result"
    },
    {
     "data": {
      "image/png": "[encoded data removed]",
      "text/plain": [
       "<matplotlib.figure.Figure at 0xfbe1390>"
      ]
     },
     "metadata": {},
     "output_type": "display_data"
    }
   ],
   "source": [
    "#读取数据\n",
    "X,y = load_svmlight_file(\"australian_scale.txt\")\n",
    "X = X.toarray()\n",
    "#为X添加一维值为 1 的特征\n",
    "ones = [[1]]*len(X)\n",
    "X = np.concatenate((X,ones),axis = 1)\n",
    "#划分训练集合测试集\n",
    "X_train,X_test,y_train,y_test = train_test_split(X,y,test_size = 0.33,random_state = 33)\n",
    "#参数初始化\n",
    "w = np.zeros(len(X[0]))\n",
    "#给定学习率和损失函数的权重\n",
    "learning_rate = 0.1\n",
    "C = 0.5\n",
    "#保存每次迭代的损失函数的值\n",
    "loss_train = [Hinge_loss(X_train,w,y_train)]\n",
    "loss_validation = [Hinge_loss(X_test,w,y_test)]\n",
    "#迭代更新参数\n",
    "for i in range(100):\n",
    "    w -= learning_rate * gradient(X_train,w,y_train,C)\n",
    "    loss_train.append(Hinge_loss(X_train,w,y_train))\n",
    "    loss_validation.append(Hinge_loss(X_test,w,y_test))\n",
    "#绘制损失函数变化图\n",
    "plt.plot(range(101),loss_train ,label=\"loss_train\",)\n",
    "plt.plot(range(101),loss_validation ,label=\"loss_validation\")\n",
    "plt.legend(loc = \"best\")\n",
    "ax = plt.gca()\n",
    "ax.set_xlabel(\"number of iterations\")\n",
    "ax.set_ylabel(\"loss function\")"
   ]
  }
 ],
 "metadata": {
  "kernelspec": {
   "display_name": "Python 3",
   "language": "python",
   "name": "python3"
  },
  "language_info": {
   "codemirror_mode": {
    "name": "ipython",
    "version": 3
   },
   "file_extension": ".py",
   "mimetype": "text/x-python",
   "name": "python",
   "nbconvert_exporter": "python",
   "pygments_lexer": "ipython3",
   "version": "3.5.2"
  }
 },
 "nbformat": 4,
 "nbformat_minor": 2
}
