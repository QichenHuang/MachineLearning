{
 "cells": [
  {
   "cell_type": "code",
   "execution_count": 69,
   "metadata": {},
   "outputs": [],
   "source": [
    "%matplotlib inline"
   ]
  },
  {
   "cell_type": "code",
   "execution_count": 70,
   "metadata": {},
   "outputs": [],
   "source": [
    "#导入包\n",
    "import numpy as np\n",
    "from sklearn.datasets import load_svmlight_file\n",
    "from sklearn.model_selection import train_test_split\n",
    "import matplotlib.pyplot as plt"
   ]
  },
  {
   "cell_type": "code",
   "execution_count": 71,
   "metadata": {},
   "outputs": [],
   "source": [
    "#Loss函数\n",
    "def Loss(X,w,y):\n",
    "    if(len(y)!=len(X)):\n",
    "        raise \"y和X长度不同\"\n",
    "    if(len(X[0])!=len(w)):\n",
    "        raise \"X的列数与w的长度不同\"\n",
    "    err = y-X.dot(w)\n",
    "    return err.dot(err)*0.5/len(y)\n"
   ]
  },
  {
   "cell_type": "code",
   "execution_count": 72,
   "metadata": {},
   "outputs": [
    {
     "data": {
      "text/plain": [
       "Text(0,0.5,'loss function')"
      ]
     },
     "execution_count": 72,
     "metadata": {},
     "output_type": "execute_result"
    },
    {
     "data": {
      "image/png": "[encoded data removed]",
      "text/plain": [
       "<matplotlib.figure.Figure at 0x11e4b0b8>"
      ]
     },
     "metadata": {},
     "output_type": "display_data"
    }
   ],
   "source": [
    "#读取数据\n",
    "X,y = load_svmlight_file(\"housing_scale.txt\")\n",
    "X = X.toarray()\n",
    "#为X添加一维值为 1 的特征，误差计算变为 y - Xw,方便运算\n",
    "ones = [[1]]*len(X)\n",
    "X = np.concatenate((X,ones),axis = 1)\n",
    "#划分训练集合测试集\n",
    "X_train,X_validation,y_train,y_validation = train_test_split(X,y,test_size = 0.33,random_state = 42)\n",
    "#参数初始化\n",
    "w = np.zeros(len(X[0]))\n",
    "\n",
    "learning_rate = 0.4\n",
    "#保存每次迭代的损失函数\n",
    "loss_train = [Loss(X_train,w,y_train)]\n",
    "loss_validation = [Loss(X_validation,w,y_validation)]\n",
    "#迭代训练\n",
    "for i in range(40):\n",
    "    #求损失函数的梯度的反方向G\n",
    "    X_trainT =X_train.transpose()\n",
    "    G = -X_trainT.dot(X_train.dot(w)-y_train)/len(X_train)\n",
    "    #更新参数\n",
    "    w = w + learning_rate * G\n",
    "    #保存当前迭代下的训练集合验证集的损失函数\n",
    "    loss_train.append(Loss(X_train,w,y_train))\n",
    "    loss_validation.append(Loss(X_validation,w,y_validation))\n",
    "#绘制损失函数变化图\n",
    "plt.plot(range(41),loss_train ,label=\"loss_train\",)\n",
    "plt.plot(range(41),loss_validation ,label=\"loss_validation\")\n",
    "plt.legend(loc = \"best\")\n",
    "ax = plt.gca()\n",
    "ax.set_xlabel(\"number of iterations\")\n",
    "ax.set_ylabel(\"loss function\")\n"
   ]
  },
  {
   "cell_type": "code",
   "execution_count": null,
   "metadata": {},
   "outputs": [],
   "source": []
  }
 ],
 "metadata": {
  "kernelspec": {
   "display_name": "Python 3",
   "language": "python",
   "name": "python3"
  },
  "language_info": {
   "codemirror_mode": {
    "name": "ipython",
    "version": 3
   },
   "file_extension": ".py",
   "mimetype": "text/x-python",
   "name": "python",
   "nbconvert_exporter": "python",
   "pygments_lexer": "ipython3",
   "version": "3.5.2"
  }
 },
 "nbformat": 4,
 "nbformat_minor": 2
}
